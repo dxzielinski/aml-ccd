{
 "cells": [
  {
   "cell_type": "markdown",
   "metadata": {},
   "source": [
    "## Benchmark the performance of the LogRegCCD \n",
    "\n",
    "Comparing to the sklearn LogisticRegression model as a baseline."
   ]
  },
  {
   "cell_type": "code",
   "execution_count": null,
   "metadata": {},
   "outputs": [],
   "source": [
    "import sys\n",
    "import os\n",
    "\n",
    "project_root = os.path.abspath(os.path.join(os.getcwd(), \"..\"))\n",
    "\n",
    "if project_root not in sys.path:\n",
    "    sys.path.append(project_root)\n",
    "\n",
    "\n",
    "from sklearn.linear_model import LogisticRegression  # noqa: E402\n",
    "from sklearn.model_selection import train_test_split  # noqa: E402\n",
    "from sklearn.metrics import balanced_accuracy_score, f1_score  # noqa: E402\n",
    "\n",
    "from algorithm.ccd import LogRegCCD  # noqa: E402\n",
    "from datasets.synthetic import generate_synthetic_data  # noqa: E402\n",
    "from datasets.real import get_dataset_1, get_dataset_2  # noqa: E402"
   ]
  },
  {
   "cell_type": "code",
   "execution_count": 4,
   "metadata": {},
   "outputs": [],
   "source": [
    "synthetic_x, synthetic_y = generate_synthetic_data(0.5, 10000, 50, 1)\n",
    "real_x1, real_y1 = get_dataset_1(\n",
    "    path=\"C:/Users/SPCX/Desktop/github-repositories/aml-ccd/ccd/datasets/dataset_1.arff\"\n",
    ")\n",
    "real_x2, real_y2 = get_dataset_2(\n",
    "    path=\"C:/Users/SPCX/Desktop/github-repositories/aml-ccd/ccd/datasets/dataset_2.arff\"\n",
    ")"
   ]
  },
  {
   "cell_type": "code",
   "execution_count": 5,
   "metadata": {},
   "outputs": [],
   "source": [
    "train_synthetic_x, test_synthetic_x, train_synthetic_y, test_synthetic_y = (\n",
    "    train_test_split(synthetic_x, synthetic_y, test_size=0.2, random_state=42)\n",
    ")\n",
    "train_real_x1, test_real_x1, train_real_y1, test_real_y1 = train_test_split(\n",
    "    real_x1, real_y1, test_size=0.2, random_state=42\n",
    ")\n",
    "train_real_x2, test_real_x2, train_real_y2, test_real_y2 = train_test_split(\n",
    "    real_x2, real_y2, test_size=0.2, random_state=42\n",
    ")"
   ]
  },
  {
   "cell_type": "code",
   "execution_count": 9,
   "metadata": {},
   "outputs": [],
   "source": [
    "# scale the data\n",
    "from sklearn.preprocessing import StandardScaler\n",
    "\n",
    "scaler = StandardScaler()\n",
    "train_synthetic_x = scaler.fit_transform(train_synthetic_x)\n",
    "test_synthetic_x = scaler.transform(test_synthetic_x)\n",
    "train_real_x1 = scaler.fit_transform(train_real_x1)\n",
    "test_real_x1 = scaler.transform(test_real_x1)\n",
    "train_real_x2 = scaler.fit_transform(train_real_x2)\n",
    "test_real_x2 = scaler.transform(test_real_x2)"
   ]
  },
  {
   "cell_type": "code",
   "execution_count": 13,
   "metadata": {},
   "outputs": [
    {
     "name": "stdout",
     "output_type": "stream",
     "text": [
      "###### LogisticRegression ######\n",
      "f1 score synthetic data:  1.0\n",
      "balanced accuracy score synthetic data:  1.0\n",
      "\n",
      "f1 score real data 1:  0.727979274611399\n",
      "balanced accuracy score real data 1:  0.7651528321019847\n",
      "\n",
      "f1 score real data 2:  0.3076923076923077\n",
      "balanced accuracy score real data 2:  0.5338435780913657\n",
      "\n",
      "###### LogRegCCD ######\n"
     ]
    },
    {
     "ename": "AttributeError",
     "evalue": "'int' object has no attribute 'copy'",
     "output_type": "error",
     "traceback": [
      "\u001b[31m---------------------------------------------------------------------------\u001b[39m",
      "\u001b[31mAttributeError\u001b[39m                            Traceback (most recent call last)",
      "\u001b[36mCell\u001b[39m\u001b[36m \u001b[39m\u001b[32mIn[13]\u001b[39m\u001b[32m, line 20\u001b[39m\n\u001b[32m     18\u001b[39m \u001b[38;5;28mprint\u001b[39m(\u001b[33m\"\u001b[39m\u001b[33m###### LogRegCCD ######\u001b[39m\u001b[33m\"\u001b[39m)\n\u001b[32m     19\u001b[39m ccd_synthetic = LogRegCCD()\n\u001b[32m---> \u001b[39m\u001b[32m20\u001b[39m \u001b[43mccd_synthetic\u001b[49m\u001b[43m.\u001b[49m\u001b[43mfit\u001b[49m\u001b[43m(\u001b[49m\u001b[43mtrain_synthetic_x\u001b[49m\u001b[43m,\u001b[49m\u001b[43m \u001b[49m\u001b[43mtrain_synthetic_y\u001b[49m\u001b[43m)\u001b[49m\n\u001b[32m     21\u001b[39m \u001b[38;5;28mprint\u001b[39m(\u001b[33m\"\u001b[39m\u001b[33mf1 score synthetic data: \u001b[39m\u001b[33m\"\u001b[39m, f1_score(test_synthetic_y, ccd_synthetic.predict(test_synthetic_x)))\n\u001b[32m     22\u001b[39m \u001b[38;5;28mprint\u001b[39m(\u001b[33m\"\u001b[39m\u001b[33mbalanced accuracy score synthetic data: \u001b[39m\u001b[33m\"\u001b[39m, balanced_accuracy_score(test_synthetic_y, ccd_synthetic.predict(test_synthetic_x)))\n",
      "\u001b[36mFile \u001b[39m\u001b[32mc:\\Users\\SPCX\\Desktop\\github-repositories\\aml-ccd\\ccd\\algorithm\\ccd.py:112\u001b[39m, in \u001b[36mLogRegCCD.fit\u001b[39m\u001b[34m(self, X_train, y_train)\u001b[39m\n\u001b[32m    110\u001b[39m \u001b[38;5;28;01mfor\u001b[39;00m each_lambda \u001b[38;5;129;01min\u001b[39;00m \u001b[38;5;28mself\u001b[39m.lambda_values:\n\u001b[32m    111\u001b[39m     \u001b[38;5;28;01mfor\u001b[39;00m _ \u001b[38;5;129;01min\u001b[39;00m \u001b[38;5;28mrange\u001b[39m(\u001b[38;5;28mself\u001b[39m.middle_loop_iterations):\n\u001b[32m--> \u001b[39m\u001b[32m112\u001b[39m         beta0_old = \u001b[43mbeta0\u001b[49m\u001b[43m.\u001b[49m\u001b[43mcopy\u001b[49m()\n\u001b[32m    113\u001b[39m         beta_old = beta.copy()\n\u001b[32m    115\u001b[39m         p = \u001b[32m1\u001b[39m / (\u001b[32m1\u001b[39m + np.exp(beta0 + X_train @ beta))\n",
      "\u001b[31mAttributeError\u001b[39m: 'int' object has no attribute 'copy'"
     ]
    }
   ],
   "source": [
    "print(\"###### LogisticRegression ######\")\n",
    "lr_synthetic = LogisticRegression(max_iter=1000)\n",
    "lr_synthetic.fit(train_synthetic_x, train_synthetic_y)\n",
    "print(\n",
    "    \"f1 score synthetic data: \",\n",
    "    f1_score(test_synthetic_y, lr_synthetic.predict(test_synthetic_x)),\n",
    ")\n",
    "print(\n",
    "    \"balanced accuracy score synthetic data: \",\n",
    "    balanced_accuracy_score(test_synthetic_y, lr_synthetic.predict(test_synthetic_x)),\n",
    ")\n",
    "print(\"\")\n",
    "lr_real1 = LogisticRegression(max_iter=1000)\n",
    "lr_real1.fit(train_real_x1, train_real_y1)\n",
    "print(\"f1 score real data 1: \", f1_score(test_real_y1, lr_real1.predict(test_real_x1)))\n",
    "print(\n",
    "    \"balanced accuracy score real data 1: \",\n",
    "    balanced_accuracy_score(test_real_y1, lr_real1.predict(test_real_x1)),\n",
    ")\n",
    "print(\"\")\n",
    "lr_real2 = LogisticRegression(max_iter=1000)\n",
    "lr_real2.fit(train_real_x2, train_real_y2)\n",
    "print(\"f1 score real data 2: \", f1_score(test_real_y2, lr_real2.predict(test_real_x2)))\n",
    "print(\n",
    "    \"balanced accuracy score real data 2: \",\n",
    "    balanced_accuracy_score(test_real_y2, lr_real2.predict(test_real_x2)),\n",
    ")\n",
    "print(\"\")\n",
    "\n",
    "print(\"###### LogRegCCD ######\")\n",
    "ccd_synthetic = LogRegCCD()\n",
    "ccd_synthetic.fit(train_synthetic_x, train_synthetic_y)\n",
    "print(\n",
    "    \"f1 score synthetic data: \",\n",
    "    f1_score(test_synthetic_y, ccd_synthetic.predict(test_synthetic_x)),\n",
    ")\n",
    "print(\n",
    "    \"balanced accuracy score synthetic data: \",\n",
    "    balanced_accuracy_score(test_synthetic_y, ccd_synthetic.predict(test_synthetic_x)),\n",
    ")\n",
    "print(\"\")"
   ]
  },
  {
   "cell_type": "code",
   "execution_count": null,
   "metadata": {},
   "outputs": [],
   "source": []
  }
 ],
 "metadata": {
  "kernelspec": {
   "display_name": ".venv",
   "language": "python",
   "name": "python3"
  },
  "language_info": {
   "codemirror_mode": {
    "name": "ipython",
    "version": 3
   },
   "file_extension": ".py",
   "mimetype": "text/x-python",
   "name": "python",
   "nbconvert_exporter": "python",
   "pygments_lexer": "ipython3",
   "version": "3.13.2"
  }
 },
 "nbformat": 4,
 "nbformat_minor": 2
}
